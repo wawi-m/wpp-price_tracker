{
 "cells": [
  {
   "cell_type": "code",
   "execution_count": 5,
   "metadata": {},
   "outputs": [],
   "source": [
    "import requests\n",
    "from bs4 import BeautifulSoup\n",
    "\n",
    "url1_jumia = 'https://www.jumia.co.ke/mobile-phones/#catalog-listing'\n",
    "url2_jumia = 'https://www.jumia.co.ke/televisions/#catalog-listing'\n",
    "\n",
    "url1_kilimall = 'https://www.kilimall.co.ke/category/mobile-phones?id=873&form=category'\n",
    "url2_kilimall = 'https://www.kilimall.co.ke/category/television?id=2070&form=category'\n",
    "\n",
    "\n",
    "response1_jumia = requests.get(url1_jumia)\n",
    "response2_jumia = requests.get(url2_jumia)\n",
    "\n",
    "response1_kilimall = requests.get(url1_kilimall)\n",
    "response2_kilimall = requests.get(url2_kilimall)\n",
    "\n",
    "soup1_jumia = BeautifulSoup(response1_jumia.content, 'html.parser')\n",
    "soup2_jumia = BeautifulSoup(response2_jumia.content, 'html.parser')\n",
    "\n",
    "soup1_kilimall = BeautifulSoup(response1_kilimall.content, 'html.parser')\n",
    "soup2_kilimall = BeautifulSoup(response2_kilimall.content, 'html.parser')\n",
    "\n",
    "with open('jumia_phones.html', 'w', encoding='utf-8') as jumia_phones_file:\n",
    "    jumia_phones_file.write(soup1_jumia.prettify())\n",
    "\n",
    "with open('jumia_tvs.html', 'w', encoding='utf-8') as tvs_file:\n",
    "    tvs_file.write(soup2_jumia.prettify())\n",
    "\n",
    "with open('kilimall_phones.html', 'w', encoding='utf-8') as kilimall_phones_file:\n",
    "    kilimall_phones_file.write(soup1_kilimall.prettify())\n",
    "\n",
    "with open('kilimall_tvs.html', 'w', encoding='utf-8') as kilimall_tvs_file:\n",
    "    kilimall_tvs_file.write(soup2_kilimall.prettify())\n"
   ]
  }
 ],
 "metadata": {
  "kernelspec": {
   "display_name": "base",
   "language": "python",
   "name": "python3"
  },
  "language_info": {
   "codemirror_mode": {
    "name": "ipython",
    "version": 3
   },
   "file_extension": ".py",
   "mimetype": "text/x-python",
   "name": "python",
   "nbconvert_exporter": "python",
   "pygments_lexer": "ipython3",
   "version": "3.12.7"
  }
 },
 "nbformat": 4,
 "nbformat_minor": 2
}
